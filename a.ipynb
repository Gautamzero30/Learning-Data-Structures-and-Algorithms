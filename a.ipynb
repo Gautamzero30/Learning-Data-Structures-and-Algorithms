{
 "cells": [
  {
   "cell_type": "code",
   "execution_count": 1,
   "id": "4d3c9e5e",
   "metadata": {},
   "outputs": [],
   "source": [
    "G={\n",
    "    \"s\":{\"t\":10,\"y\":5},\n",
    "    \"t\":{\"y\":2,\"x\":1},\n",
    "    \"x\":{\"z\":4},\n",
    "    \"y\":{\"z\":2,\"x\" : 9, \"t\":3},\n",
    "    \"z\" :{\"x\" :6, \"s\":7}\n",
    "    \n",
    "\n",
    "}\n",
    "\n",
    "import math\n",
    "# for vertex in G.keys():\n",
    "#     print(G[vertex])\n",
    "# print(G.keys())\n",
    "def initialize(G,s):\n",
    "    cost = dict()\n",
    "    \n",
    "    prev = {}\n",
    "    for vertex in G.keys():\n",
    "        print(cost)\n",
    "        cost[vertex] = math.inf\n",
    "        print(prev)\n",
    "        prev[vertex] = ' '\n",
    "\n",
    "    cost[s] =0\n",
    "\n",
    "# G[\"p\"] = 10\n",
    "# print(G)\n",
    "\n"
   ]
  },
  {
   "cell_type": "code",
   "execution_count": 2,
   "id": "f4712cf1",
   "metadata": {},
   "outputs": [],
   "source": [
    "def RELAX(G,u,v,cost,prev):\n",
    "    if cost[v]>cost[u]+ G[u][v]:\n",
    "        cost[v] = cost [u] + G[u][v]\n",
    "        prev = u\n",
    "    return cost, prev    "
   ]
  },
  {
   "cell_type": "code",
   "execution_count": 3,
   "id": "2e638621",
   "metadata": {},
   "outputs": [],
   "source": [
    "def DJ(G,s):    \n",
    "    from queue import  PriorityQueue\n",
    "    \n",
    "    cost,prev = initialize(G,s)\n",
    "   \n",
    "    pq = PriorityQueue()\n",
    "    # pq.put((2,\"z\"))\n",
    "    # pq.put((3, \"Y\"))\n",
    "    # pq.put((1, \"z\"))\n",
    "    # print(pq.get())\n",
    "    for vertex in G.keys():\n",
    "        pq.put((cost[vertex],vertex))\n",
    "        print(list(pq.queue))\n",
    "    visited = []\n",
    "    while (len(visited) != len(G.keys())):\n",
    "        _, currentVertex = pq.get()\n",
    "        visited.append(currentVertex)\n",
    "        for chimeki in G[currentVertex].keys():\n",
    "            if chimeki not in visited:\n",
    "                cost, prev = RELAX(G, currentVertex, chimeki, cost, prev)\n",
    "                \n",
    "                print(list(pq.queue))\n",
    "                pq.put((cost[chimeki],chimeki))\n",
    "    return cost, prev  \n",
    "   "
   ]
  },
  {
   "cell_type": "code",
   "execution_count": 4,
   "id": "a94015dd",
   "metadata": {},
   "outputs": [
    {
     "name": "stdout",
     "output_type": "stream",
     "text": [
      "{}\n",
      "{}\n",
      "{'s': inf}\n",
      "{'s': ' '}\n",
      "{'s': inf, 't': inf}\n",
      "{'s': ' ', 't': ' '}\n",
      "{'s': inf, 't': inf, 'x': inf}\n",
      "{'s': ' ', 't': ' ', 'x': ' '}\n",
      "{'s': inf, 't': inf, 'x': inf, 'y': inf}\n",
      "{'s': ' ', 't': ' ', 'x': ' ', 'y': ' '}\n"
     ]
    },
    {
     "ename": "TypeError",
     "evalue": "cannot unpack non-iterable NoneType object",
     "output_type": "error",
     "traceback": [
      "\u001b[31m---------------------------------------------------------------------------\u001b[39m",
      "\u001b[31mTypeError\u001b[39m                                 Traceback (most recent call last)",
      "\u001b[36mCell\u001b[39m\u001b[36m \u001b[39m\u001b[32mIn[4]\u001b[39m\u001b[32m, line 9\u001b[39m\n\u001b[32m      7\u001b[39m     \u001b[38;5;28;01mreturn\u001b[39;00m path\n\u001b[32m      8\u001b[39m s = \u001b[33m\"\u001b[39m\u001b[33mt\u001b[39m\u001b[33m\"\u001b[39m\n\u001b[32m----> \u001b[39m\u001b[32m9\u001b[39m cost,prev = \u001b[43mDJ\u001b[49m\u001b[43m(\u001b[49m\u001b[43mG\u001b[49m\u001b[43m,\u001b[49m\u001b[43ms\u001b[49m\u001b[43m)\u001b[49m    \n\u001b[32m     10\u001b[39m \u001b[38;5;28;01mfor\u001b[39;00m vertex \u001b[38;5;129;01min\u001b[39;00m G.keys():\n\u001b[32m     11\u001b[39m     \u001b[38;5;28mprint\u001b[39m(\u001b[33mf\u001b[39m\u001b[33m\"\u001b[39m\u001b[33mshortest path from \u001b[39m\u001b[38;5;132;01m{\u001b[39;00ms\u001b[38;5;132;01m}\u001b[39;00m\u001b[33m to \u001b[39m\u001b[38;5;132;01m{\u001b[39;00mvertex\u001b[38;5;132;01m}\u001b[39;00m\u001b[33m is \u001b[39m\u001b[38;5;132;01m{\u001b[39;00mRECONSTRUCT_PATH(vertex,prev)\u001b[38;5;132;01m}\u001b[39;00m\u001b[33m\"\u001b[39m)\n",
      "\u001b[36mCell\u001b[39m\u001b[36m \u001b[39m\u001b[32mIn[3]\u001b[39m\u001b[32m, line 4\u001b[39m, in \u001b[36mDJ\u001b[39m\u001b[34m(G, s)\u001b[39m\n\u001b[32m      1\u001b[39m \u001b[38;5;28;01mdef\u001b[39;00m\u001b[38;5;250m \u001b[39m\u001b[34mDJ\u001b[39m(G,s):    \n\u001b[32m      2\u001b[39m     \u001b[38;5;28;01mfrom\u001b[39;00m\u001b[38;5;250m \u001b[39m\u001b[34;01mqueue\u001b[39;00m\u001b[38;5;250m \u001b[39m\u001b[38;5;28;01mimport\u001b[39;00m  PriorityQueue\n\u001b[32m----> \u001b[39m\u001b[32m4\u001b[39m     cost,prev = initialize(G,s)\n\u001b[32m      6\u001b[39m     pq = PriorityQueue()\n\u001b[32m      7\u001b[39m     \u001b[38;5;66;03m# pq.put((2,\"z\"))\u001b[39;00m\n\u001b[32m      8\u001b[39m     \u001b[38;5;66;03m# pq.put((3, \"Y\"))\u001b[39;00m\n\u001b[32m      9\u001b[39m     \u001b[38;5;66;03m# pq.put((1, \"z\"))\u001b[39;00m\n\u001b[32m     10\u001b[39m     \u001b[38;5;66;03m# print(pq.get())\u001b[39;00m\n",
      "\u001b[31mTypeError\u001b[39m: cannot unpack non-iterable NoneType object"
     ]
    }
   ],
   "source": [
    "def RECONSTRUCT_PATH(vertex, prev):\n",
    "    path = vertex\n",
    "    while prev[vertex ] != \" \":\n",
    "        path  = prev[vertex] + \"->\" + path\n",
    "        vertex = prev[vertex]\n",
    "\n",
    "    return path\n",
    "s = \"t\"\n",
    "cost,prev = DJ(G,s)    \n",
    "for vertex in G.keys():\n",
    "    print(f\"shortest path from {s} to {vertex} is {RECONSTRUCT_PATH(vertex,prev)}\")\n",
    "    print(f\"cost is {cost[vertex]}\")\n",
    "\n",
    "\n"
   ]
  }
 ],
 "metadata": {
  "kernelspec": {
   "display_name": ".venv (3.13.3)",
   "language": "python",
   "name": "python3"
  },
  "language_info": {
   "codemirror_mode": {
    "name": "ipython",
    "version": 3
   },
   "file_extension": ".py",
   "mimetype": "text/x-python",
   "name": "python",
   "nbconvert_exporter": "python",
   "pygments_lexer": "ipython3",
   "version": "3.13.3"
  }
 },
 "nbformat": 4,
 "nbformat_minor": 5
}
